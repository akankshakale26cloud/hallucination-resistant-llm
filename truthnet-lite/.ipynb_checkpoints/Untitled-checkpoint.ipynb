{
 "cells": [
  {
   "cell_type": "code",
   "execution_count": 5,
   "id": "455626b8-cae6-40d5-b3e2-31f28e9e1166",
   "metadata": {},
   "outputs": [
    {
     "name": "stdout",
     "output_type": "stream",
     "text": [
      "Requirement already satisfied: qdrant-client in c:\\users\\akank\\appdata\\local\\programs\\python\\python310\\lib\\site-packages (1.14.3)"
     ]
    },
    {
     "name": "stderr",
     "output_type": "stream",
     "text": [
      "WARNING: You are using pip version 22.0.4; however, version 25.1.1 is available.\n",
      "You should consider upgrading via the 'C:\\Users\\akank\\AppData\\Local\\Programs\\Python\\Python310\\python.exe -m pip install --upgrade pip' command.\n"
     ]
    },
    {
     "name": "stdout",
     "output_type": "stream",
     "text": [
      "\n",
      "Requirement already satisfied: sentence-transformers in c:\\users\\akank\\appdata\\local\\programs\\python\\python310\\lib\\site-packages (4.1.0)\n",
      "Requirement already satisfied: portalocker<3.0.0,>=2.7.0 in c:\\users\\akank\\appdata\\local\\programs\\python\\python310\\lib\\site-packages (from qdrant-client) (2.10.1)\n",
      "Requirement already satisfied: grpcio>=1.41.0 in c:\\users\\akank\\appdata\\local\\programs\\python\\python310\\lib\\site-packages (from qdrant-client) (1.73.0)\n",
      "Requirement already satisfied: urllib3<3,>=1.26.14 in c:\\users\\akank\\appdata\\local\\programs\\python\\python310\\lib\\site-packages (from qdrant-client) (1.26.15)\n",
      "Requirement already satisfied: protobuf>=3.20.0 in c:\\users\\akank\\appdata\\local\\programs\\python\\python310\\lib\\site-packages (from qdrant-client) (6.31.1)\n",
      "Requirement already satisfied: httpx[http2]>=0.20.0 in c:\\users\\akank\\appdata\\local\\programs\\python\\python310\\lib\\site-packages (from qdrant-client) (0.28.1)\n",
      "Requirement already satisfied: numpy>=1.21 in c:\\users\\akank\\appdata\\local\\programs\\python\\python310\\lib\\site-packages (from qdrant-client) (2.2.4)\n",
      "Requirement already satisfied: pydantic!=2.0.*,!=2.1.*,!=2.2.0,>=1.10.8 in c:\\users\\akank\\appdata\\local\\programs\\python\\python310\\lib\\site-packages (from qdrant-client) (2.11.0)\n",
      "Requirement already satisfied: transformers<5.0.0,>=4.41.0 in c:\\users\\akank\\appdata\\local\\programs\\python\\python310\\lib\\site-packages (from sentence-transformers) (4.52.4)\n",
      "Requirement already satisfied: typing_extensions>=4.5.0 in c:\\users\\akank\\appdata\\local\\programs\\python\\python310\\lib\\site-packages (from sentence-transformers) (4.13.0)\n",
      "Requirement already satisfied: scipy in c:\\users\\akank\\appdata\\local\\programs\\python\\python310\\lib\\site-packages (from sentence-transformers) (1.15.2)\n",
      "Requirement already satisfied: torch>=1.11.0 in c:\\users\\akank\\appdata\\local\\programs\\python\\python310\\lib\\site-packages (from sentence-transformers) (2.7.1)\n",
      "Requirement already satisfied: scikit-learn in c:\\users\\akank\\appdata\\local\\programs\\python\\python310\\lib\\site-packages (from sentence-transformers) (1.6.1)\n",
      "Requirement already satisfied: tqdm in c:\\users\\akank\\appdata\\local\\programs\\python\\python310\\lib\\site-packages (from sentence-transformers) (4.67.1)\n",
      "Requirement already satisfied: huggingface-hub>=0.20.0 in c:\\users\\akank\\appdata\\local\\programs\\python\\python310\\lib\\site-packages (from sentence-transformers) (0.33.0)\n",
      "Requirement already satisfied: Pillow in c:\\users\\akank\\appdata\\local\\programs\\python\\python310\\lib\\site-packages (from sentence-transformers) (11.2.1)\n",
      "Requirement already satisfied: idna in c:\\users\\akank\\appdata\\local\\programs\\python\\python310\\lib\\site-packages (from httpx[http2]>=0.20.0->qdrant-client) (3.4)\n",
      "Requirement already satisfied: certifi in c:\\users\\akank\\appdata\\local\\programs\\python\\python310\\lib\\site-packages (from httpx[http2]>=0.20.0->qdrant-client) (2022.12.7)\n",
      "Requirement already satisfied: httpcore==1.* in c:\\users\\akank\\appdata\\local\\programs\\python\\python310\\lib\\site-packages (from httpx[http2]>=0.20.0->qdrant-client) (1.0.9)\n",
      "Requirement already satisfied: anyio in c:\\users\\akank\\appdata\\local\\programs\\python\\python310\\lib\\site-packages (from httpx[http2]>=0.20.0->qdrant-client) (4.9.0)\n",
      "Requirement already satisfied: h2<5,>=3 in c:\\users\\akank\\appdata\\local\\programs\\python\\python310\\lib\\site-packages (from httpx[http2]>=0.20.0->qdrant-client) (4.2.0)\n",
      "Requirement already satisfied: h11>=0.16 in c:\\users\\akank\\appdata\\local\\programs\\python\\python310\\lib\\site-packages (from httpcore==1.*->httpx[http2]>=0.20.0->qdrant-client) (0.16.0)\n",
      "Requirement already satisfied: fsspec>=2023.5.0 in c:\\users\\akank\\appdata\\local\\programs\\python\\python310\\lib\\site-packages (from huggingface-hub>=0.20.0->sentence-transformers) (2025.3.0)\n",
      "Requirement already satisfied: pyyaml>=5.1 in c:\\users\\akank\\appdata\\local\\programs\\python\\python310\\lib\\site-packages (from huggingface-hub>=0.20.0->sentence-transformers) (6.0.2)\n",
      "Requirement already satisfied: filelock in c:\\users\\akank\\appdata\\local\\programs\\python\\python310\\lib\\site-packages (from huggingface-hub>=0.20.0->sentence-transformers) (3.18.0)\n",
      "Requirement already satisfied: requests in c:\\users\\akank\\appdata\\local\\programs\\python\\python310\\lib\\site-packages (from huggingface-hub>=0.20.0->sentence-transformers) (2.32.3)\n",
      "Requirement already satisfied: packaging>=20.9 in c:\\users\\akank\\appdata\\local\\programs\\python\\python310\\lib\\site-packages (from huggingface-hub>=0.20.0->sentence-transformers) (25.0)\n",
      "Requirement already satisfied: pywin32>=226 in c:\\users\\akank\\appdata\\local\\programs\\python\\python310\\lib\\site-packages (from portalocker<3.0.0,>=2.7.0->qdrant-client) (310)\n",
      "Requirement already satisfied: annotated-types>=0.6.0 in c:\\users\\akank\\appdata\\local\\programs\\python\\python310\\lib\\site-packages (from pydantic!=2.0.*,!=2.1.*,!=2.2.0,>=1.10.8->qdrant-client) (0.7.0)\n",
      "Requirement already satisfied: typing-inspection>=0.4.0 in c:\\users\\akank\\appdata\\local\\programs\\python\\python310\\lib\\site-packages (from pydantic!=2.0.*,!=2.1.*,!=2.2.0,>=1.10.8->qdrant-client) (0.4.0)\n",
      "Requirement already satisfied: pydantic-core==2.33.0 in c:\\users\\akank\\appdata\\local\\programs\\python\\python310\\lib\\site-packages (from pydantic!=2.0.*,!=2.1.*,!=2.2.0,>=1.10.8->qdrant-client) (2.33.0)\n",
      "Requirement already satisfied: jinja2 in c:\\users\\akank\\appdata\\local\\programs\\python\\python310\\lib\\site-packages (from torch>=1.11.0->sentence-transformers) (3.1.6)\n",
      "Requirement already satisfied: sympy>=1.13.3 in c:\\users\\akank\\appdata\\local\\programs\\python\\python310\\lib\\site-packages (from torch>=1.11.0->sentence-transformers) (1.14.0)\n",
      "Requirement already satisfied: networkx in c:\\users\\akank\\appdata\\local\\programs\\python\\python310\\lib\\site-packages (from torch>=1.11.0->sentence-transformers) (3.4.2)\n",
      "Requirement already satisfied: colorama in c:\\users\\akank\\appdata\\local\\programs\\python\\python310\\lib\\site-packages (from tqdm->sentence-transformers) (0.4.6)\n",
      "Requirement already satisfied: safetensors>=0.4.3 in c:\\users\\akank\\appdata\\local\\programs\\python\\python310\\lib\\site-packages (from transformers<5.0.0,>=4.41.0->sentence-transformers) (0.5.3)\n",
      "Requirement already satisfied: regex!=2019.12.17 in c:\\users\\akank\\appdata\\local\\programs\\python\\python310\\lib\\site-packages (from transformers<5.0.0,>=4.41.0->sentence-transformers) (2024.11.6)\n",
      "Requirement already satisfied: tokenizers<0.22,>=0.21 in c:\\users\\akank\\appdata\\local\\programs\\python\\python310\\lib\\site-packages (from transformers<5.0.0,>=4.41.0->sentence-transformers) (0.21.1)\n",
      "Requirement already satisfied: threadpoolctl>=3.1.0 in c:\\users\\akank\\appdata\\local\\programs\\python\\python310\\lib\\site-packages (from scikit-learn->sentence-transformers) (3.6.0)\n",
      "Requirement already satisfied: joblib>=1.2.0 in c:\\users\\akank\\appdata\\local\\programs\\python\\python310\\lib\\site-packages (from scikit-learn->sentence-transformers) (1.4.2)\n",
      "Requirement already satisfied: hpack<5,>=4.1 in c:\\users\\akank\\appdata\\local\\programs\\python\\python310\\lib\\site-packages (from h2<5,>=3->httpx[http2]>=0.20.0->qdrant-client) (4.1.0)\n",
      "Requirement already satisfied: hyperframe<7,>=6.1 in c:\\users\\akank\\appdata\\local\\programs\\python\\python310\\lib\\site-packages (from h2<5,>=3->httpx[http2]>=0.20.0->qdrant-client) (6.1.0)\n",
      "Requirement already satisfied: mpmath<1.4,>=1.1.0 in c:\\users\\akank\\appdata\\local\\programs\\python\\python310\\lib\\site-packages (from sympy>=1.13.3->torch>=1.11.0->sentence-transformers) (1.3.0)\n",
      "Requirement already satisfied: exceptiongroup>=1.0.2 in c:\\users\\akank\\appdata\\local\\programs\\python\\python310\\lib\\site-packages (from anyio->httpx[http2]>=0.20.0->qdrant-client) (1.1.0)\n",
      "Requirement already satisfied: sniffio>=1.1 in c:\\users\\akank\\appdata\\local\\programs\\python\\python310\\lib\\site-packages (from anyio->httpx[http2]>=0.20.0->qdrant-client) (1.3.0)\n",
      "Requirement already satisfied: MarkupSafe>=2.0 in c:\\users\\akank\\appdata\\local\\programs\\python\\python310\\lib\\site-packages (from jinja2->torch>=1.11.0->sentence-transformers) (3.0.2)\n",
      "Requirement already satisfied: charset-normalizer<4,>=2 in c:\\users\\akank\\appdata\\local\\programs\\python\\python310\\lib\\site-packages (from requests->huggingface-hub>=0.20.0->sentence-transformers) (3.4.1)\n"
     ]
    }
   ],
   "source": [
    "!pip install qdrant-client sentence-transformers"
   ]
  },
  {
   "cell_type": "code",
   "execution_count": 8,
   "id": "53f5e341-e0cc-4c42-95fd-cd0cabe81f53",
   "metadata": {},
   "outputs": [
    {
     "data": {
      "text/plain": [
       "CollectionsResponse(collections=[])"
      ]
     },
     "execution_count": 8,
     "metadata": {},
     "output_type": "execute_result"
    }
   ],
   "source": [
    "from qdrant_client import QdrantClient\n",
    "\n",
    "client = QdrantClient(\"http://localhost:6333\")\n",
    "client.get_collections()\n"
   ]
  },
  {
   "cell_type": "code",
   "execution_count": 9,
   "id": "ca9bb318-55d7-4fda-906c-cb25834d5607",
   "metadata": {},
   "outputs": [],
   "source": [
    "from sentence_transformers import SentenceTransformer\n",
    "from qdrant_client import QdrantClient\n",
    "from qdrant_client.http.models import PointStruct\n",
    "import uuid\n"
   ]
  },
  {
   "cell_type": "code",
   "execution_count": 10,
   "id": "97b550f0-8323-43ac-bce9-aca8ab41b324",
   "metadata": {},
   "outputs": [],
   "source": [
    "# Connect to Qdrant running on localhost\n",
    "client = QdrantClient(\"http://localhost:6333\")\n",
    "\n",
    "# Load a small embedding model\n",
    "model = SentenceTransformer(\"all-MiniLM-L6-v2\")\n",
    "\n",
    "# Create a collection (if not already exists)\n",
    "collection_name = \"documents\"\n",
    "\n",
    "try:\n",
    "    client.create_collection(\n",
    "        collection_name=collection_name,\n",
    "        vectors_config={\"size\": 384, \"distance\": \"Cosine\"}\n",
    "    )\n",
    "except Exception as e:\n",
    "    print(\"Collection might already exist:\", e)\n"
   ]
  },
  {
   "cell_type": "code",
   "execution_count": 11,
   "id": "05ca5560-82b4-4b55-9453-c6fbb84598be",
   "metadata": {},
   "outputs": [],
   "source": [
    "def insert_doc(doc_id, text, metadata):\n",
    "    vector = model.encode(text).tolist()\n",
    "    point = PointStruct(\n",
    "        id=str(uuid.uuid4()),\n",
    "        vector=vector,\n",
    "        payload={**metadata, \"text\": text}\n",
    "    )\n",
    "    client.upsert(collection_name=collection_name, points=[point])\n"
   ]
  },
  {
   "cell_type": "code",
   "execution_count": 12,
   "id": "1c0e4aae-4aea-47a4-972c-3b20182be3c9",
   "metadata": {},
   "outputs": [],
   "source": [
    "insert_doc(\n",
    "    doc_id=\"doc1\",\n",
    "    text=\"Tesla stated in Q2 2023 that margins were under pressure.\",\n",
    "    metadata={\"source\": \"10Q_Q2_2023\"}\n",
    ")\n"
   ]
  },
  {
   "cell_type": "code",
   "execution_count": 17,
   "id": "e3c6b9a2-3cfa-429c-9256-d8d3fb1842e5",
   "metadata": {},
   "outputs": [],
   "source": [
    "def search_context(query, top_k=3):\n",
    "    query_vector = model.encode(query).tolist()\n",
    "    \n",
    "    results = client.search(\n",
    "        collection_name=collection_name,\n",
    "        query_vector=query_vector,\n",
    "        limit=top_k,\n",
    "        with_payload=True\n",
    "    )\n",
    "    return results\n"
   ]
  },
  {
   "cell_type": "code",
   "execution_count": 18,
   "id": "05a884d9-61a8-4d4f-a71f-9abcad019cf8",
   "metadata": {},
   "outputs": [
    {
     "name": "stdout",
     "output_type": "stream",
     "text": [
      "Result 1: Tesla stated in Q2 2023 that margins were under pressure. (score: 0.6429)\n"
     ]
    },
    {
     "name": "stderr",
     "output_type": "stream",
     "text": [
      "C:\\Users\\akank\\AppData\\Local\\Temp\\ipykernel_15584\\854768061.py:4: DeprecationWarning: `search` method is deprecated and will be removed in the future. Use `query_points` instead.\n",
      "  results = client.search(\n"
     ]
    }
   ],
   "source": [
    "results = search_context(\"What did Tesla say about Q2?\")\n",
    "\n",
    "for i, res in enumerate(results, 1):\n",
    "    print(f\"Result {i}: {res.payload['text']} (score: {res.score:.4f})\")\n"
   ]
  },
  {
   "cell_type": "code",
   "execution_count": null,
   "id": "a2ada82a-f8df-482a-a5cc-3e1aa84a4fce",
   "metadata": {},
   "outputs": [],
   "source": []
  }
 ],
 "metadata": {
  "kernelspec": {
   "display_name": "Python 3 (ipykernel)",
   "language": "python",
   "name": "python3"
  },
  "language_info": {
   "codemirror_mode": {
    "name": "ipython",
    "version": 3
   },
   "file_extension": ".py",
   "mimetype": "text/x-python",
   "name": "python",
   "nbconvert_exporter": "python",
   "pygments_lexer": "ipython3",
   "version": "3.10.5"
  }
 },
 "nbformat": 4,
 "nbformat_minor": 5
}
